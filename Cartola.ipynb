{
 "cells": [
  {
   "cell_type": "code",
   "execution_count": 5,
   "id": "38b6dba0",
   "metadata": {},
   "outputs": [
    {
     "name": "stdout",
     "output_type": "stream",
     "text": [
      "Index(['Unnamed: 0', 'atletas.nome', 'atletas.slug', 'atletas.apelido',\n",
      "       'atletas.foto', 'atletas.atleta_id', 'atletas.rodada_id',\n",
      "       'atletas.clube_id', 'atletas.posicao_id', 'atletas.status_id',\n",
      "       'atletas.pontos_num', 'atletas.preco_num', 'atletas.variacao_num',\n",
      "       'atletas.media_num', 'atletas.jogos_num', 'atletas.clube.id.full.name',\n",
      "       'DS', 'FC', 'FF', 'FS', 'G', 'PI', 'CA', 'DD', 'GS', 'A', 'SG', 'FD',\n",
      "       'FT', 'I', 'CV', 'GC', 'PP'],\n",
      "      dtype='object')\n"
     ]
    }
   ],
   "source": [
    "#https://github.com/henriquepgomide/caRtola\n",
    "\n",
    "\n",
    "import pandas as pd\n",
    "\n",
    "path = \"C:/Users/autologon/rodada-3.csv\"\n",
    "\n",
    "jogadores = pd.read_csv(path)\n",
    "\n",
    "print(jogadores.columns)\n",
    "\n",
    "\n"
   ]
  },
  {
   "cell_type": "code",
   "execution_count": 6,
   "id": "6f3b681c",
   "metadata": {},
   "outputs": [],
   "source": [
    "filtro = jogadores['atletas.preco_num'] > 20"
   ]
  },
  {
   "cell_type": "code",
   "execution_count": 8,
   "id": "dda78294",
   "metadata": {},
   "outputs": [
    {
     "data": {
      "text/html": [
       "<div>\n",
       "<style scoped>\n",
       "    .dataframe tbody tr th:only-of-type {\n",
       "        vertical-align: middle;\n",
       "    }\n",
       "\n",
       "    .dataframe tbody tr th {\n",
       "        vertical-align: top;\n",
       "    }\n",
       "\n",
       "    .dataframe thead th {\n",
       "        text-align: right;\n",
       "    }\n",
       "</style>\n",
       "<table border=\"1\" class=\"dataframe\">\n",
       "  <thead>\n",
       "    <tr style=\"text-align: right;\">\n",
       "      <th></th>\n",
       "      <th>atletas.nome</th>\n",
       "      <th>atletas.clube.id.full.name</th>\n",
       "    </tr>\n",
       "  </thead>\n",
       "  <tbody>\n",
       "    <tr>\n",
       "      <th>541</th>\n",
       "      <td>Renzo Saravia</td>\n",
       "      <td>Internacional</td>\n",
       "    </tr>\n",
       "    <tr>\n",
       "      <th>593</th>\n",
       "      <td>Giorgian Daniel de Arrascaeta Benedetti</td>\n",
       "      <td>Flamengo</td>\n",
       "    </tr>\n",
       "    <tr>\n",
       "      <th>614</th>\n",
       "      <td>José Paolo Guerrero Gonzales</td>\n",
       "      <td>Internacional</td>\n",
       "    </tr>\n",
       "    <tr>\n",
       "      <th>631</th>\n",
       "      <td>Mário Sérgio Santos Costa</td>\n",
       "      <td>Santos</td>\n",
       "    </tr>\n",
       "  </tbody>\n",
       "</table>\n",
       "</div>"
      ],
      "text/plain": [
       "                                atletas.nome atletas.clube.id.full.name\n",
       "541                            Renzo Saravia              Internacional\n",
       "593  Giorgian Daniel de Arrascaeta Benedetti                   Flamengo\n",
       "614             José Paolo Guerrero Gonzales              Internacional\n",
       "631                Mário Sérgio Santos Costa                     Santos"
      ]
     },
     "execution_count": 8,
     "metadata": {},
     "output_type": "execute_result"
    }
   ],
   "source": [
    "# Atletas com precos maior que 20 cartoletas\n",
    "jogadores_caros = jogadores [filtro]\n",
    "jogadores_caros[['atletas.nome', 'atletas.clube.id.full.name']]"
   ]
  },
  {
   "cell_type": "code",
   "execution_count": 10,
   "id": "621f4e1c",
   "metadata": {},
   "outputs": [
    {
     "name": "stdout",
     "output_type": "stream",
     "text": [
      "Média de preços: 4.81\n"
     ]
    }
   ],
   "source": [
    "#média de preço dos jogadores nesta rodada\n",
    "print(\"Média de preços: %.2f\" % jogadores['atletas.preco_num'].mean())"
   ]
  },
  {
   "cell_type": "code",
   "execution_count": 12,
   "id": "5f1300bf",
   "metadata": {},
   "outputs": [
    {
     "data": {
      "text/html": [
       "<div>\n",
       "<style scoped>\n",
       "    .dataframe tbody tr th:only-of-type {\n",
       "        vertical-align: middle;\n",
       "    }\n",
       "\n",
       "    .dataframe tbody tr th {\n",
       "        vertical-align: top;\n",
       "    }\n",
       "\n",
       "    .dataframe thead th {\n",
       "        text-align: right;\n",
       "    }\n",
       "</style>\n",
       "<table border=\"1\" class=\"dataframe\">\n",
       "  <thead>\n",
       "    <tr style=\"text-align: right;\">\n",
       "      <th></th>\n",
       "      <th>atletas.nome</th>\n",
       "      <th>atletas.clube.id.full.name</th>\n",
       "    </tr>\n",
       "  </thead>\n",
       "  <tbody>\n",
       "    <tr>\n",
       "      <th>631</th>\n",
       "      <td>Mário Sérgio Santos Costa</td>\n",
       "      <td>Santos</td>\n",
       "    </tr>\n",
       "  </tbody>\n",
       "</table>\n",
       "</div>"
      ],
      "text/plain": [
       "                  atletas.nome atletas.clube.id.full.name\n",
       "631  Mário Sérgio Santos Costa                     Santos"
      ]
     },
     "execution_count": 12,
     "metadata": {},
     "output_type": "execute_result"
    }
   ],
   "source": [
    "# Jogador(es) que mitaram na rodada\n",
    "maior = jogadores['atletas.pontos_num'].max()\n",
    "filtro = jogadores['atletas.pontos_num'] == maior\n",
    "mitos = jogadores [filtro]\n",
    "mitos[['atletas.nome', 'atletas.clube.id.full.name']]"
   ]
  },
  {
   "cell_type": "code",
   "execution_count": 13,
   "id": "95d8d718",
   "metadata": {},
   "outputs": [
    {
     "data": {
      "text/plain": [
       "230"
      ]
     },
     "execution_count": 13,
     "metadata": {},
     "output_type": "execute_result"
    }
   ],
   "source": [
    "# Quantidade de atletas que irão jogar a rodada 3\n",
    "filtro = jogadores['atletas.status_id'] == 'Provável'\n",
    "jogadores[filtro]['atletas.nome'].count()"
   ]
  },
  {
   "cell_type": "code",
   "execution_count": null,
   "id": "c8b50649",
   "metadata": {},
   "outputs": [],
   "source": []
  }
 ],
 "metadata": {
  "kernelspec": {
   "display_name": "Python 3 (ipykernel)",
   "language": "python",
   "name": "python3"
  },
  "language_info": {
   "codemirror_mode": {
    "name": "ipython",
    "version": 3
   },
   "file_extension": ".py",
   "mimetype": "text/x-python",
   "name": "python",
   "nbconvert_exporter": "python",
   "pygments_lexer": "ipython3",
   "version": "3.9.13"
  }
 },
 "nbformat": 4,
 "nbformat_minor": 5
}
